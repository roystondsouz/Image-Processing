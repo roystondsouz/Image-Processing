{
 "cells": [
  {
   "cell_type": "code",
   "execution_count": 3,
   "id": "05dda519",
   "metadata": {},
   "outputs": [
    {
     "data": {
      "text/plain": [
       "-1"
      ]
     },
     "execution_count": 3,
     "metadata": {},
     "output_type": "execute_result"
    }
   ],
   "source": [
    "import cv2 as c\n",
    "import numpy as np\n",
    "from PIL import Image\n",
    "array=np.zeros([100,200,3], dtype=np.uint8)\n",
    "array[:,:100]=[255,130,0]\n",
    "array[:,100:]=[0,0,255]\n",
    "img=Image.fromarray(array)\n",
    "img.save('img1.jpg')\n",
    "img.show()\n",
    "c.waitKey(0)"
   ]
  },
  {
   "cell_type": "code",
   "execution_count": null,
   "id": "023fccf8",
   "metadata": {},
   "outputs": [],
   "source": []
  }
 ],
 "metadata": {
  "kernelspec": {
   "display_name": "Python 3 (ipykernel)",
   "language": "python",
   "name": "python3"
  },
  "language_info": {
   "codemirror_mode": {
    "name": "ipython",
    "version": 3
   },
   "file_extension": ".py",
   "mimetype": "text/x-python",
   "name": "python",
   "nbconvert_exporter": "python",
   "pygments_lexer": "ipython3",
   "version": "3.9.12"
  }
 },
 "nbformat": 4,
 "nbformat_minor": 5
}
