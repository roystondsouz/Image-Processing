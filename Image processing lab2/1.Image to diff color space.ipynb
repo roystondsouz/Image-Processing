{
 "cells": [
  {
   "cell_type": "code",
   "execution_count": 6,
   "id": "c4f85c69",
   "metadata": {},
   "outputs": [],
   "source": [
    "import cv2 \n",
    "img=cv2.imread(\"D:\\Roy\\\\b2.jpg\")\n",
    "gray=cv2.cvtColor(img,cv2.COLOR_BGR2GRAY)\n",
    "hsv=cv2.cvtColor(img,cv2.COLOR_BGR2HSV)\n",
    "lab=cv2.cvtColor(img,cv2.COLOR_BGR2LAB)\n",
    "hls=cv2.cvtColor(img,cv2.COLOR_BGR2HLS)\n",
    "yuv=cv2.cvtColor(img,cv2.COLOR_BGR2YUV)\n",
    "cv2.imshow(\"GRAY image\",gray)\n",
    "cv2.imshow(\"HSV image\",hsv)\n",
    "cv2.imshow(\"LAB image\",lab)\n",
    "cv2.imshow(\"HLS image\",hls)\n",
    "cv2.imshow(\"YUV image\",yuv)\n",
    "cv2.waitKey(0)\n",
    "cv2.destroyAllWindows()"
   ]
  },
  {
   "cell_type": "code",
   "execution_count": null,
   "id": "5588bdb1",
   "metadata": {},
   "outputs": [],
   "source": []
  },
  {
   "cell_type": "code",
   "execution_count": null,
   "id": "243a3808",
   "metadata": {},
   "outputs": [],
   "source": []
  }
 ],
 "metadata": {
  "kernelspec": {
   "display_name": "Python 3 (ipykernel)",
   "language": "python",
   "name": "python3"
  },
  "language_info": {
   "codemirror_mode": {
    "name": "ipython",
    "version": 3
   },
   "file_extension": ".py",
   "mimetype": "text/x-python",
   "name": "python",
   "nbconvert_exporter": "python",
   "pygments_lexer": "ipython3",
   "version": "3.9.12"
  }
 },
 "nbformat": 4,
 "nbformat_minor": 5
}
